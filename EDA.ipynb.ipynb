{
 "cells": [
  {
   "cell_type": "code",
   "execution_count": null,
   "id": "68c26254",
   "metadata": {},
   "outputs": [
    {
     "ename": "",
     "evalue": "",
     "output_type": "error",
     "traceback": [
      "\u001b[1;31mThe kernel failed to start as the Python Environment 'mi_entorno (Python -1.-1.-1)' is no longer available. Consider selecting another kernel or refreshing the list of Python Environments."
     ]
    }
   ],
   "source": [
    "import pandas as pd\n",
    "import plotly.express as px\n",
    "import streamlit as st"
   ]
  },
  {
   "cell_type": "code",
   "execution_count": null,
   "id": "87f985c4",
   "metadata": {},
   "outputs": [],
   "source": [
    "#se extrae la informacion\n",
    "autos= pd.read_csv('C:\\\\Users\\\\Paola\\\\Myprojects\\\\my_project\\\\vehicles_us.csv',sep=',')"
   ]
  },
  {
   "cell_type": "code",
   "execution_count": null,
   "id": "c2e9380d",
   "metadata": {},
   "outputs": [],
   "source": [
    "autos=autos.drop_duplicates().reset_index(drop=True)\n",
    "autos=autos.dropna(subset=['model_year'])"
   ]
  },
  {
   "cell_type": "code",
   "execution_count": null,
   "id": "959172a7",
   "metadata": {},
   "outputs": [],
   "source": [
    "\n",
    "figa = px.histogram(autos, x=\"odometer\") # crear un histograma\n",
    "figa.show() # crear gráfico de dispersión"
   ]
  },
  {
   "cell_type": "code",
   "execution_count": null,
   "id": "913b7453",
   "metadata": {},
   "outputs": [],
   "source": [
    "figb = px.scatter(autos, x=\"odometer\", y=\"price\") # crear un gráfico de dispersión\n",
    "figb.show() # crear gráfico de dispersión"
   ]
  }
 ],
 "metadata": {
  "kernelspec": {
   "display_name": "mi_entorno",
   "language": "python",
   "name": "python3"
  },
  "language_info": {
   "codemirror_mode": {
    "name": "ipython",
    "version": 3
   },
   "file_extension": ".py",
   "mimetype": "text/x-python",
   "name": "python",
   "nbconvert_exporter": "python",
   "pygments_lexer": "ipython3",
   "version": "-1.-1.-1"
  }
 },
 "nbformat": 4,
 "nbformat_minor": 5
}
